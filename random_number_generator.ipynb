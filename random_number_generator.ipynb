{
 "cells": [
  {
   "cell_type": "code",
   "execution_count": 2,
   "metadata": {},
   "outputs": [
    {
     "name": "stdout",
     "output_type": "stream",
     "text": [
      "9\n",
      "81\n",
      "216\n",
      "2048\n",
      "95475\n",
      "952460\n"
     ]
    }
   ],
   "source": [
    "import random\n",
    "\n",
    "def generateRandomNumber(amount,minRange,maxRange):\n",
    "    min = pow(10, amount-1)\n",
    "    max = pow(10, amount) - 1\n",
    "    random_number = random.randint(min, max)\n",
    "    while random_number >= minRange and random_number <= maxRange:\n",
    "        return random_number\n",
    "\n",
    "print(generateRandomNumber(1,1,9))\n",
    "print(generateRandomNumber(2,10,99))\n",
    "print(generateRandomNumber(3,100,999))\n",
    "print(generateRandomNumber(4,1000,9999))\n",
    "print(generateRandomNumber(5,10000,99999))\n",
    "print(generateRandomNumber(6,100000,999999))"
   ]
  }
 ],
 "metadata": {
  "kernelspec": {
   "display_name": "Python 3",
   "language": "python",
   "name": "python3"
  },
  "language_info": {
   "codemirror_mode": {
    "name": "ipython",
    "version": 3
   },
   "file_extension": ".py",
   "mimetype": "text/x-python",
   "name": "python",
   "nbconvert_exporter": "python",
   "pygments_lexer": "ipython3",
   "version": "3.8.3"
  }
 },
 "nbformat": 4,
 "nbformat_minor": 4
}
